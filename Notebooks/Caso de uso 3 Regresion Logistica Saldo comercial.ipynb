{
 "cells": [
  {
   "cell_type": "markdown",
   "id": "362abeae",
   "metadata": {},
   "source": [
    "# Caso de uso - Regresion Logistica al saldo comercial"
   ]
  },
  {
   "cell_type": "code",
   "execution_count": 1,
   "id": "30b844f6",
   "metadata": {},
   "outputs": [],
   "source": [
    "from pyspark.mllib.classification import NaiveBayes, NaiveBayesModel\n",
    "from pyspark.mllib.linalg import Vectors\n",
    "from pyspark.mllib.regression import LabeledPoint"
   ]
  },
  {
   "cell_type": "code",
   "execution_count": 21,
   "id": "2f4d1fa8",
   "metadata": {},
   "outputs": [
    {
     "name": "stderr",
     "output_type": "stream",
     "text": [
      "                                                                                \r"
     ]
    }
   ],
   "source": [
    "# importando saldo comercial (del caso de uso 1)\n",
    "saldo_comercial = spark.read.option(\"header\", True)\\\n",
    ".option(\"inferSchema\",\"true\")\\\n",
    ".csv(\"saldo_comercial_nacional.csv\")"
   ]
  },
  {
   "cell_type": "code",
   "execution_count": 32,
   "id": "04fbeba1",
   "metadata": {},
   "outputs": [],
   "source": [
    "# creacion de una vista temporal\n",
    "saldo_comercial.createOrReplaceTempView(\"saldo_label\")"
   ]
  },
  {
   "cell_type": "code",
   "execution_count": 72,
   "id": "348b5590",
   "metadata": {},
   "outputs": [],
   "source": [
    "# concatenamos las columnas gestin departamento y descripcion como descripcion\n",
    "saldo_label = spark.sql(\"\"\"\n",
    "SELECT concat(gestion, departamento, descripcion) descrpcion, import_millones, export_millones, outcome\n",
    "FROM saldo_label\n",
    "\"\"\")"
   ]
  },
  {
   "cell_type": "code",
   "execution_count": 73,
   "id": "3738cfd1",
   "metadata": {},
   "outputs": [],
   "source": [
    "from pyspark.ml.feature import RFormula"
   ]
  },
  {
   "cell_type": "code",
   "execution_count": 84,
   "id": "a50c1642",
   "metadata": {},
   "outputs": [],
   "source": [
    "supervised = RFormula(formula=\"outcome ~. + descrpcion:import_millones + descrpcion:export_millones\")"
   ]
  },
  {
   "cell_type": "code",
   "execution_count": 85,
   "id": "11a86706",
   "metadata": {},
   "outputs": [
    {
     "name": "stderr",
     "output_type": "stream",
     "text": [
      "                                                                                \r"
     ]
    }
   ],
   "source": [
    "# RFormula es un estimator, por eso llama a la funcion fit()\n",
    "fittedRF=supervised.fit(saldo_label)"
   ]
  },
  {
   "cell_type": "code",
   "execution_count": 86,
   "id": "fa588305",
   "metadata": {},
   "outputs": [],
   "source": [
    "# fittedRF es un transformer\n",
    "preparedDF=fittedRF.transform(saldo_label)"
   ]
  },
  {
   "cell_type": "code",
   "execution_count": 87,
   "id": "1bcf8e30",
   "metadata": {},
   "outputs": [
    {
     "name": "stdout",
     "output_type": "stream",
     "text": [
      "+------------------------------------------------------------------------------------------------------------------------------------------------------------------+---------------+---------------+-------+-------------------------------------------------------------------+-----+\n",
      "|descrpcion                                                                                                                                                        |import_millones|export_millones|outcome|features                                                           |label|\n",
      "+------------------------------------------------------------------------------------------------------------------------------------------------------------------+---------------+---------------+-------+-------------------------------------------------------------------+-----+\n",
      "|2016SANTA CRUZFabricación de otros artículos de papel y cartón.                                                                                                   |27.957         |0.505          |1      |(7420,[376,2472,2473,2850,5323],[1.0,27.957,0.505,27.957,0.505])   |1.0  |\n",
      "|2016SANTA CRUZFabricación de muebles.                                                                                                                             |37.054         |7.313          |1      |(7420,[374,2472,2473,2848,5321],[1.0,37.054,7.313,37.054,7.313])   |1.0  |\n",
      "|2016SANTA CRUZFabricación de receptores de radio y televisión, aparatos de grabación y reproducción de sonido y vídeo, y productos conexos.                       |30.91          |0.279          |1      |(7420,[403,2472,2473,2877,5350],[1.0,30.91,0.279,30.91,0.279])     |1.0  |\n",
      "|2016SANTA CRUZFabricación de artículos de cuchillería, herramientas de mano y artículos de ferretería.                                                            |31.457         |0.627          |1      |(7420,[339,2472,2473,2813,5286],[1.0,31.457,0.627,31.457,0.627])   |1.0  |\n",
      "|2016SANTA CRUZFabricación de instrumentos y aparatos para medir, verificar, ensayar, navegar y otros fines, excepto el equipo de control de procesos industriales.|39.456         |7.12           |1      |(7420,[359,2472,2473,2833,5306],[1.0,39.456,7.12,39.456,7.12])     |1.0  |\n",
      "|2016SANTA CRUZFabricación de pinturas, barnices y productos de revestimiento similares, tintas de imprenta y masillas.                                            |33.924         |0.011          |1      |(7420,[391,2472,2473,2865,5338],[1.0,33.924,0.011,33.924,0.011])   |1.0  |\n",
      "|2016SANTA CRUZFabricación de motores y turbinas, excepto motores para aeronaves, vehículos automotores y motocicletas.                                            |52.526         |14.685         |1      |(7420,[372,2472,2473,2846,5319],[1.0,52.526,14.685,52.526,14.685]) |1.0  |\n",
      "|2016SANTA CRUZFabricación de equipo médico y quirúrgico y de aparatos ortopédicos.                                                                                |39.287         |0.078          |1      |(7420,[351,2472,2473,2825,5298],[1.0,39.287,0.078,39.287,0.078])   |1.0  |\n",
      "|2016SANTA CRUZFabricación de aparatos de distribución y control de la energía eléctrica.                                                                          |39.519         |0.127          |1      |(7420,[336,2472,2473,2810,5283],[1.0,39.519,0.127,39.519,0.127])   |1.0  |\n",
      "|2016SANTA CRUZFabricación de maquinaria de oficina, contabilidad e informática.                                                                                   |43.735         |2.149          |1      |(7420,[367,2472,2473,2841,5314],[1.0,43.735,2.149,43.735,2.149])   |1.0  |\n",
      "|2016SANTA CRUZFabricación de cubiertas y cámaras de caucho; recauchado y renovación de cubiertas de caucho.                                                       |41.73          |0.055          |1      |(7420,[347,2472,2473,2821,5294],[1.0,41.73,0.055,41.73,0.055])     |1.0  |\n",
      "|2016SANTA CRUZFabricación de sustancias químicas básicas, excepto abonos y compuestos de nitrógeno.                                                               |43.125         |0.766          |1      |(7420,[405,2472,2473,2879,5352],[1.0,43.125,0.766,43.125,0.766])   |1.0  |\n",
      "|2019SANTA CRUZFabricación de bombas, compresores, grifos y válvulas.                                                                                              |71.994         |0.85           |1      |(7420,[1623,2472,2473,4097,6570],[1.0,71.994,0.85,71.994,0.85])    |1.0  |\n",
      "|2019SANTA CRUZFabricación de otros productos elaborados de metal n.c.p.                                                                                           |71.555         |0.221          |1      |(7420,[1659,2472,2473,4133,6606],[1.0,71.555,0.221,71.555,0.221])  |1.0  |\n",
      "|2019SANTA CRUZFabricación de motores, generadores y transformadores eléctricos.                                                                                   |73.184         |0.054          |1      |(7420,[1653,2472,2473,4127,6600],[1.0,73.184,0.054,73.184,0.054])  |1.0  |\n",
      "|2019SANTA CRUZFabricación de productos de plástico.                                                                                                               |76.521         |0.564          |1      |(7420,[1678,2472,2473,4152,6625],[1.0,76.521,0.564,76.521,0.564])  |1.0  |\n",
      "|2019SANTA CRUZFabricación de otros productos químicos n.c.p.                                                                                                      |78.562         |1.322          |1      |(7420,[1661,2472,2473,4135,6608],[1.0,78.562,1.322,78.562,1.322])  |1.0  |\n",
      "|2019SANTA CRUZFabricación de transmisores de radio y televisión y de aparatos para telefonía y telegrafía con hilos.                                              |87.238         |0.017          |1      |(7420,[1687,2472,2473,4161,6634],[1.0,87.238,0.017,87.238,0.017])  |1.0  |\n",
      "|2019SANTA CRUZFabricación de instrumentos y aparatos para medir, verificar, ensayar, navegar y otros fines, excepto el equipo de control de procesos industriales.|102.349        |4.273          |1      |(7420,[1639,2472,2473,4113,6586],[1.0,102.349,4.273,102.349,4.273])|1.0  |\n",
      "|2019SANTA CRUZFabricación de jabones y detergentes, preparados para limpiar y pulir, perfumes y preparados de tocador.                                            |99.62          |0.597          |1      |(7420,[1640,2472,2473,4114,6587],[1.0,99.62,0.597,99.62,0.597])    |1.0  |\n",
      "+------------------------------------------------------------------------------------------------------------------------------------------------------------------+---------------+---------------+-------+-------------------------------------------------------------------+-----+\n",
      "only showing top 20 rows\n",
      "\n"
     ]
    }
   ],
   "source": [
    "preparedDF.show(truncate=False)"
   ]
  },
  {
   "cell_type": "code",
   "execution_count": 88,
   "id": "fb925f17",
   "metadata": {},
   "outputs": [],
   "source": [
    "train, test=preparedDF.randomSplit([0.7,0.3])"
   ]
  },
  {
   "cell_type": "code",
   "execution_count": 89,
   "id": "1367f07c",
   "metadata": {},
   "outputs": [],
   "source": [
    "from pyspark.ml.classification import LogisticRegression\n",
    "lr=LogisticRegression(labelCol=\"label\", featuresCol=\"features\")"
   ]
  },
  {
   "cell_type": "code",
   "execution_count": 90,
   "id": "bc85513a",
   "metadata": {},
   "outputs": [
    {
     "name": "stdout",
     "output_type": "stream",
     "text": [
      "aggregationDepth: suggested depth for treeAggregate (>= 2). (default: 2)\n",
      "elasticNetParam: the ElasticNet mixing parameter, in range [0, 1]. For alpha = 0, the penalty is an L2 penalty. For alpha = 1, it is an L1 penalty. (default: 0.0)\n",
      "family: The name of family which is a description of the label distribution to be used in the model. Supported options: auto, binomial, multinomial (default: auto)\n",
      "featuresCol: features column name. (default: features, current: features)\n",
      "fitIntercept: whether to fit an intercept term. (default: True)\n",
      "labelCol: label column name. (default: label, current: label)\n",
      "lowerBoundsOnCoefficients: The lower bounds on coefficients if fitting under bound constrained optimization. The bound matrix must be compatible with the shape (1, number of features) for binomial regression, or (number of classes, number of features) for multinomial regression. (undefined)\n",
      "lowerBoundsOnIntercepts: The lower bounds on intercepts if fitting under bound constrained optimization. The bounds vector size must beequal with 1 for binomial regression, or the number oflasses for multinomial regression. (undefined)\n",
      "maxBlockSizeInMB: maximum memory in MB for stacking input data into blocks. Data is stacked within partitions. If more than remaining data size in a partition then it is adjusted to the data size. Default 0.0 represents choosing optimal value, depends on specific algorithm. Must be >= 0. (default: 0.0)\n",
      "maxIter: max number of iterations (>= 0). (default: 100)\n",
      "predictionCol: prediction column name. (default: prediction)\n",
      "probabilityCol: Column name for predicted class conditional probabilities. Note: Not all models output well-calibrated probability estimates! These probabilities should be treated as confidences, not precise probabilities. (default: probability)\n",
      "rawPredictionCol: raw prediction (a.k.a. confidence) column name. (default: rawPrediction)\n",
      "regParam: regularization parameter (>= 0). (default: 0.0)\n",
      "standardization: whether to standardize the training features before fitting the model. (default: True)\n",
      "threshold: Threshold in binary classification prediction, in range [0, 1]. If threshold and thresholds are both set, they must match.e.g. if threshold is p, then thresholds must be equal to [1-p, p]. (default: 0.5)\n",
      "thresholds: Thresholds in multi-class classification to adjust the probability of predicting each class. Array must have length equal to the number of classes, with values > 0, excepting that at most one value may be 0. The class with largest value p/t is predicted, where p is the original probability of that class and t is the class's threshold. (undefined)\n",
      "tol: the convergence tolerance for iterative algorithms (>= 0). (default: 1e-06)\n",
      "upperBoundsOnCoefficients: The upper bounds on coefficients if fitting under bound constrained optimization. The bound matrix must be compatible with the shape (1, number of features) for binomial regression, or (number of classes, number of features) for multinomial regression. (undefined)\n",
      "upperBoundsOnIntercepts: The upper bounds on intercepts if fitting under bound constrained optimization. The bound vector size must be equal with 1 for binomial regression, or the number of classes for multinomial regression. (undefined)\n",
      "weightCol: weight column name. If this is not set or empty, we treat all instance weights as 1.0. (undefined)\n"
     ]
    }
   ],
   "source": [
    "print(lr.explainParams())"
   ]
  },
  {
   "cell_type": "code",
   "execution_count": 91,
   "id": "3d86817f",
   "metadata": {},
   "outputs": [
    {
     "name": "stderr",
     "output_type": "stream",
     "text": [
      "2021-08-17 21:11:06,405 WARN scheduler.DAGScheduler: Broadcasting large task binary with size 2.5 MiB\n",
      "2021-08-17 21:11:07,846 WARN scheduler.DAGScheduler: Broadcasting large task binary with size 2.5 MiB\n",
      "2021-08-17 21:11:08,034 WARN scheduler.DAGScheduler: Broadcasting large task binary with size 2.5 MiB\n",
      "2021-08-17 21:11:08,780 WARN scheduler.DAGScheduler: Broadcasting large task binary with size 2.5 MiB\n",
      "2021-08-17 21:11:08,939 WARN scheduler.DAGScheduler: Broadcasting large task binary with size 2.5 MiB\n",
      "2021-08-17 21:11:09,143 WARN scheduler.DAGScheduler: Broadcasting large task binary with size 2.5 MiB\n",
      "2021-08-17 21:11:09,314 WARN scheduler.DAGScheduler: Broadcasting large task binary with size 2.5 MiB\n",
      "2021-08-17 21:11:09,467 WARN scheduler.DAGScheduler: Broadcasting large task binary with size 2.5 MiB\n",
      "2021-08-17 21:11:09,638 WARN scheduler.DAGScheduler: Broadcasting large task binary with size 2.5 MiB\n",
      "2021-08-17 21:11:09,879 WARN scheduler.DAGScheduler: Broadcasting large task binary with size 2.5 MiB\n",
      "2021-08-17 21:11:10,014 WARN scheduler.DAGScheduler: Broadcasting large task binary with size 2.5 MiB\n",
      "2021-08-17 21:11:10,218 WARN scheduler.DAGScheduler: Broadcasting large task binary with size 2.5 MiB\n",
      "2021-08-17 21:11:10,637 WARN scheduler.DAGScheduler: Broadcasting large task binary with size 2.5 MiB\n",
      "2021-08-17 21:11:10,791 WARN scheduler.DAGScheduler: Broadcasting large task binary with size 2.5 MiB\n",
      "2021-08-17 21:11:10,955 WARN scheduler.DAGScheduler: Broadcasting large task binary with size 2.5 MiB\n",
      "2021-08-17 21:11:11,111 WARN scheduler.DAGScheduler: Broadcasting large task binary with size 2.5 MiB\n",
      "2021-08-17 21:11:11,271 WARN scheduler.DAGScheduler: Broadcasting large task binary with size 2.5 MiB\n",
      "2021-08-17 21:11:11,462 WARN scheduler.DAGScheduler: Broadcasting large task binary with size 2.5 MiB\n",
      "2021-08-17 21:11:11,649 WARN scheduler.DAGScheduler: Broadcasting large task binary with size 2.5 MiB\n",
      "2021-08-17 21:11:11,801 WARN scheduler.DAGScheduler: Broadcasting large task binary with size 2.5 MiB\n",
      "2021-08-17 21:11:12,042 WARN scheduler.DAGScheduler: Broadcasting large task binary with size 2.5 MiB\n",
      "2021-08-17 21:11:12,428 WARN scheduler.DAGScheduler: Broadcasting large task binary with size 2.5 MiB\n",
      "2021-08-17 21:11:12,686 WARN scheduler.DAGScheduler: Broadcasting large task binary with size 2.5 MiB\n",
      "2021-08-17 21:11:12,985 WARN scheduler.DAGScheduler: Broadcasting large task binary with size 2.5 MiB\n",
      "2021-08-17 21:11:13,246 WARN scheduler.DAGScheduler: Broadcasting large task binary with size 2.5 MiB\n",
      "2021-08-17 21:11:13,457 WARN scheduler.DAGScheduler: Broadcasting large task binary with size 2.5 MiB\n",
      "2021-08-17 21:11:13,821 WARN scheduler.DAGScheduler: Broadcasting large task binary with size 2.5 MiB\n",
      "2021-08-17 21:11:14,139 WARN scheduler.DAGScheduler: Broadcasting large task binary with size 2.5 MiB\n",
      "2021-08-17 21:11:14,337 WARN scheduler.DAGScheduler: Broadcasting large task binary with size 2.5 MiB\n",
      "2021-08-17 21:11:14,704 WARN scheduler.DAGScheduler: Broadcasting large task binary with size 2.5 MiB\n",
      "2021-08-17 21:11:14,970 WARN scheduler.DAGScheduler: Broadcasting large task binary with size 2.5 MiB\n",
      "2021-08-17 21:11:15,190 WARN scheduler.DAGScheduler: Broadcasting large task binary with size 2.5 MiB\n",
      "2021-08-17 21:11:15,369 WARN scheduler.DAGScheduler: Broadcasting large task binary with size 2.5 MiB\n",
      "2021-08-17 21:11:15,556 WARN scheduler.DAGScheduler: Broadcasting large task binary with size 2.5 MiB\n",
      "2021-08-17 21:11:15,818 WARN scheduler.DAGScheduler: Broadcasting large task binary with size 2.5 MiB\n",
      "2021-08-17 21:11:16,101 WARN scheduler.DAGScheduler: Broadcasting large task binary with size 2.5 MiB\n",
      "2021-08-17 21:11:16,265 WARN scheduler.DAGScheduler: Broadcasting large task binary with size 2.5 MiB\n",
      "2021-08-17 21:11:16,458 WARN scheduler.DAGScheduler: Broadcasting large task binary with size 2.5 MiB\n",
      "2021-08-17 21:11:16,680 WARN scheduler.DAGScheduler: Broadcasting large task binary with size 2.5 MiB\n",
      "2021-08-17 21:11:16,850 WARN scheduler.DAGScheduler: Broadcasting large task binary with size 2.5 MiB\n",
      "2021-08-17 21:11:17,034 WARN scheduler.DAGScheduler: Broadcasting large task binary with size 2.5 MiB\n",
      "2021-08-17 21:11:17,227 WARN scheduler.DAGScheduler: Broadcasting large task binary with size 2.5 MiB\n",
      "2021-08-17 21:11:17,411 WARN scheduler.DAGScheduler: Broadcasting large task binary with size 2.5 MiB\n",
      "2021-08-17 21:11:17,540 WARN scheduler.DAGScheduler: Broadcasting large task binary with size 2.5 MiB\n",
      "2021-08-17 21:11:17,698 WARN scheduler.DAGScheduler: Broadcasting large task binary with size 2.5 MiB\n",
      "2021-08-17 21:11:17,923 WARN scheduler.DAGScheduler: Broadcasting large task binary with size 2.5 MiB\n",
      "2021-08-17 21:11:18,120 WARN scheduler.DAGScheduler: Broadcasting large task binary with size 2.5 MiB\n",
      "2021-08-17 21:11:18,276 WARN scheduler.DAGScheduler: Broadcasting large task binary with size 2.5 MiB\n",
      "2021-08-17 21:11:18,521 WARN scheduler.DAGScheduler: Broadcasting large task binary with size 2.5 MiB\n",
      "2021-08-17 21:11:18,862 WARN scheduler.DAGScheduler: Broadcasting large task binary with size 2.5 MiB\n",
      "2021-08-17 21:11:19,084 WARN scheduler.DAGScheduler: Broadcasting large task binary with size 2.5 MiB\n",
      "2021-08-17 21:11:19,233 WARN scheduler.DAGScheduler: Broadcasting large task binary with size 2.5 MiB\n",
      "2021-08-17 21:11:19,387 WARN scheduler.DAGScheduler: Broadcasting large task binary with size 2.5 MiB\n",
      "2021-08-17 21:11:19,550 WARN scheduler.DAGScheduler: Broadcasting large task binary with size 2.5 MiB\n",
      "2021-08-17 21:11:19,737 WARN scheduler.DAGScheduler: Broadcasting large task binary with size 2.5 MiB\n",
      "2021-08-17 21:11:19,869 WARN scheduler.DAGScheduler: Broadcasting large task binary with size 2.5 MiB\n"
     ]
    }
   ],
   "source": [
    "fittedLR=lr.fit(train)"
   ]
  },
  {
   "cell_type": "code",
   "execution_count": 92,
   "id": "6d274e4d",
   "metadata": {},
   "outputs": [],
   "source": [
    "outputDF=fittedLR.transform(train)"
   ]
  },
  {
   "cell_type": "code",
   "execution_count": 95,
   "id": "6aaa0db5",
   "metadata": {},
   "outputs": [
    {
     "data": {
      "text/plain": [
       "DataFrame[descrpcion: string, import_millones: double, export_millones: double, outcome: int, features: vector, label: double, rawPrediction: vector, probability: vector, prediction: double]"
      ]
     },
     "execution_count": 95,
     "metadata": {},
     "output_type": "execute_result"
    }
   ],
   "source": [
    "outputDF"
   ]
  },
  {
   "cell_type": "code",
   "execution_count": 99,
   "id": "c49e43d2",
   "metadata": {},
   "outputs": [
    {
     "name": "stderr",
     "output_type": "stream",
     "text": [
      "2021-08-17 21:18:24,951 WARN scheduler.DAGScheduler: Broadcasting large task binary with size 2.6 MiB\n"
     ]
    },
    {
     "name": "stdout",
     "output_type": "stream",
     "text": [
      "+----------------------------------------------------------------------------------------------------------------------+-----+------------------------------------------+----------+\n",
      "|descrpcion                                                                                                            |label|probability                               |prediction|\n",
      "+----------------------------------------------------------------------------------------------------------------------+-----+------------------------------------------+----------+\n",
      "|2016CHUQUISACAFabricación de aparatos de distribución y control de la energía eléctrica.                              |0.0  |[0.9999999958953978,4.104602213672592E-9] |0.0       |\n",
      "|2016CHUQUISACAFabricación de artículos de cuchillería, herramientas de mano y artículos de ferretería.                |0.0  |[0.99999999589574,4.104260042936403E-9]   |0.0       |\n",
      "|2016CHUQUISACAFabricación de instrumentos de óptica y equipo fotográfico.                                             |0.0  |[0.9999999958951085,4.10489153779281E-9]  |0.0       |\n",
      "|2016CHUQUISACAFabricación de jabones y detergentes, preparados para limpiar y pulir, perfumes y preparados de tocador.|0.0  |[0.9999999958953492,4.104650841441071E-9] |0.0       |\n",
      "|2016CHUQUISACAFabricación de maquinaria para la elaboración de alimentos, bebidas y tabaco.                           |0.0  |[0.9999999958949699,4.105030093626283E-9] |0.0       |\n",
      "|2016CHUQUISACAFabricación de motores, generadores y transformadores eléctricos.                                       |0.0  |[0.9999999958955308,4.104469208954242E-9] |0.0       |\n",
      "|2016CHUQUISACAFabricación de otros productos químicos n.c.p.                                                          |0.0  |[0.9999999958950583,4.104941719873523E-9] |0.0       |\n",
      "|2016CHUQUISACAFabricación de otros tipos de equipo eléctrico n.c.p.                                                   |0.0  |[0.9999999958950692,4.1049308396878814E-9]|0.0       |\n",
      "|2016COCHABAMBAFabricación de artículos de cuchillería, herramientas de mano y artículos de ferretería.                |1.0  |[4.1578476646093515E-9,0.9999999958421524]|1.0       |\n",
      "|2016COCHABAMBAFabricación de bombas, compresores, grifos y válvulas.                                                  |1.0  |[2.883122124017376E-9,0.9999999971168779] |1.0       |\n",
      "+----------------------------------------------------------------------------------------------------------------------+-----+------------------------------------------+----------+\n",
      "only showing top 10 rows\n",
      "\n"
     ]
    }
   ],
   "source": [
    "outputDF.select(\"descrpcion\",\"label\",\"probability\",\"prediction\").show(10, truncate= False)"
   ]
  },
  {
   "cell_type": "markdown",
   "id": "53865a38",
   "metadata": {},
   "source": [
    "# Conclusiones\n",
    "Segun los resultados del modelo  muestra:\n",
    "\n",
    "     La actividad en Chuquisaca - Fabricación de aparatos de distribución y control de la energía eléctrica es muy probable que se exporte.\n",
    "     Pero en COCHABAMBA la actividad Fabricación de bombas, compresores, grifos y válvulas. Es muy probable que se importe"
   ]
  },
  {
   "cell_type": "code",
   "execution_count": null,
   "id": "3885d490",
   "metadata": {},
   "outputs": [],
   "source": []
  }
 ],
 "metadata": {
  "kernelspec": {
   "display_name": "Python 3 (ipykernel)",
   "language": "python",
   "name": "python3"
  },
  "language_info": {
   "codemirror_mode": {
    "name": "ipython",
    "version": 3
   },
   "file_extension": ".py",
   "mimetype": "text/x-python",
   "name": "python",
   "nbconvert_exporter": "python",
   "pygments_lexer": "ipython3",
   "version": "3.7.3"
  }
 },
 "nbformat": 4,
 "nbformat_minor": 5
}
