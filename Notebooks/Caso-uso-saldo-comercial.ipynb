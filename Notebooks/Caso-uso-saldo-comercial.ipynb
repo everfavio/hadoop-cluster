{
 "cells": [
  {
   "cell_type": "markdown",
   "id": "9a32f561",
   "metadata": {},
   "source": [
    "## Caso de uso - Calculo del saldo comercial"
   ]
  },
  {
   "cell_type": "markdown",
   "id": "557c6ce4",
   "metadata": {},
   "source": [
    "Que significa saldo comercial"
   ]
  },
  {
   "cell_type": "code",
   "execution_count": 1,
   "id": "dee7096d",
   "metadata": {},
   "outputs": [],
   "source": [
    "# importacion de pyspark\n",
    "import pyspark"
   ]
  },
  {
   "cell_type": "code",
   "execution_count": 2,
   "id": "e5277afd",
   "metadata": {},
   "outputs": [
    {
     "data": {
      "text/html": [
       "\n",
       "        <div>\n",
       "            <p><b>SparkContext</b></p>\n",
       "\n",
       "            <p><a href=\"http://hadoop-namenode:4040\">Spark UI</a></p>\n",
       "\n",
       "            <dl>\n",
       "              <dt>Version</dt>\n",
       "                <dd><code>v3.1.2</code></dd>\n",
       "              <dt>Master</dt>\n",
       "                <dd><code>local[*]</code></dd>\n",
       "              <dt>AppName</dt>\n",
       "                <dd><code>PySparkShell</code></dd>\n",
       "            </dl>\n",
       "        </div>\n",
       "        "
      ],
      "text/plain": [
       "<SparkContext master=local[*] appName=PySparkShell>"
      ]
     },
     "execution_count": 2,
     "metadata": {},
     "output_type": "execute_result"
    }
   ],
   "source": [
    "# identificacion del spark context\n",
    "sc"
   ]
  },
  {
   "cell_type": "markdown",
   "id": "593e5a63",
   "metadata": {},
   "source": [
    "## Importacion de datasets"
   ]
  },
  {
   "cell_type": "markdown",
   "id": "988ce45b",
   "metadata": {},
   "source": [
    "### Importacion del clasificador CIIU"
   ]
  },
  {
   "cell_type": "code",
   "execution_count": 26,
   "id": "d5ff2689",
   "metadata": {},
   "outputs": [],
   "source": [
    "# importacion del clasificador CIIU \n",
    "# el archivo fisico debe estar cargado en el HDFS (/user/hadoop/....)\n",
    "dataset_ciiu = spark.read.option(\"header\",True).csv(\"ciiur3_post3.csv\")"
   ]
  },
  {
   "cell_type": "code",
   "execution_count": 27,
   "id": "2cf5a689",
   "metadata": {},
   "outputs": [
    {
     "name": "stdout",
     "output_type": "stream",
     "text": [
      "+------+--------------------+-----+\n",
      "|codigo|         descripcion|nivel|\n",
      "+------+--------------------+-----+\n",
      "|     A|Agricultura, gana...|    1|\n",
      "|    01|Agricultura, gana...|    2|\n",
      "|   011|Cultivos en gener...|    3|\n",
      "|  0111|Cultivo de cereal...|    4|\n",
      "|  0112|Cultivo de hortal...|    4|\n",
      "|  0113|Cultivo de frutas...|    4|\n",
      "|   012|   Cría de animales.|    3|\n",
      "|  0121|Cría de ganado va...|    4|\n",
      "|  0122|Cría de otros ani...|    4|\n",
      "|   013|Cultivo de produc...|    3|\n",
      "|  0130|Cultivo de produc...|    4|\n",
      "|   014|Actividades de se...|    3|\n",
      "|  0140|Actividades de se...|    4|\n",
      "|   015|Caza ordinaria y ...|    3|\n",
      "|  0150|Caza ordinaria y ...|    4|\n",
      "|    02|Silvicultura, ext...|    2|\n",
      "|   020|Silvicultura, ext...|    3|\n",
      "|  0200|Silvicultura, ext...|    4|\n",
      "|     B|              Pesca.|    1|\n",
      "|    05|Pesca, explotació...|    2|\n",
      "+------+--------------------+-----+\n",
      "only showing top 20 rows\n",
      "\n"
     ]
    }
   ],
   "source": [
    "dataset_ciiu.show()"
   ]
  },
  {
   "cell_type": "code",
   "execution_count": 28,
   "id": "2eee588d",
   "metadata": {},
   "outputs": [],
   "source": [
    "# temporal para ciiu\n",
    "dataset_ciiu.createOrReplaceTempView(\"ciiu\")"
   ]
  },
  {
   "cell_type": "markdown",
   "id": "7633d132",
   "metadata": {},
   "source": [
    "### Importacion del dataset EXPORTACIONES"
   ]
  },
  {
   "cell_type": "code",
   "execution_count": 29,
   "id": "f0b9f8a8",
   "metadata": {},
   "outputs": [],
   "source": [
    "# importacion del dataset export\n",
    "# el archivo fisico debe estar cargado en el HDFS (/user/hadoop/....)\n",
    "\n",
    "dataset_export = spark.read\\\n",
    "    .option(\"inferSchema\",\"true\")\\\n",
    "    .option(\"header\",True)\\\n",
    "    .csv(\"export_post3.csv\")"
   ]
  },
  {
   "cell_type": "code",
   "execution_count": 30,
   "id": "2594a3b4",
   "metadata": {},
   "outputs": [
    {
     "name": "stdout",
     "output_type": "stream",
     "text": [
      "+-------+---+------------+------+---------+----------+----------+----------+\n",
      "|gestion|mes|departamento|ciiur3|    valor|    kilbru|    kilnet|   nandina|\n",
      "+-------+---+------------+------+---------+----------+----------+----------+\n",
      "|   2019|  5|  SANTA CRUZ|  1514|1689360.0| 3000000.0| 3000000.0|1507100000|\n",
      "|   2018|  4|  CHUQUISACA|  1110|511854.68|2017313.27|2017313.27|2711210000|\n",
      "|   2018|  7|  SANTA CRUZ|  1911| 84828.68|     341.5|     341.5|4113300000|\n",
      "|   2018|  5|      LA PAZ|  1920|  1414.05|     585.0|     580.0|6402200000|\n",
      "|   2018|  9|  COCHABAMBA|  3694|  3574.14|     51.13|     46.93|9503002200|\n",
      "|   2018|  7|       PANDO|  0113| 147730.0|  16686.72|  15966.72| 801220000|\n",
      "|   2018|  7|        BENI|  0113|1942793.6|  218160.0|  208000.0| 801220000|\n",
      "|   2018|  7|        BENI|  0113| 847783.2|   93281.0|   89000.0| 801220000|\n",
      "|   2018|  7|       PANDO|  0113| 123728.0|  16686.72|  15966.72| 801220000|\n",
      "|   2018|  7|        BENI|  0113| 237260.0|   42000.0|   40000.0| 801220000|\n",
      "+-------+---+------------+------+---------+----------+----------+----------+\n",
      "only showing top 10 rows\n",
      "\n"
     ]
    }
   ],
   "source": [
    "# muestra del dataset\n",
    "dataset_export.show(10)"
   ]
  },
  {
   "cell_type": "code",
   "execution_count": 31,
   "id": "1624a185",
   "metadata": {},
   "outputs": [
    {
     "name": "stdout",
     "output_type": "stream",
     "text": [
      "root\n",
      " |-- gestion: integer (nullable = true)\n",
      " |-- mes: integer (nullable = true)\n",
      " |-- departamento: string (nullable = true)\n",
      " |-- ciiur3: string (nullable = true)\n",
      " |-- valor: double (nullable = true)\n",
      " |-- kilbru: double (nullable = true)\n",
      " |-- kilnet: double (nullable = true)\n",
      " |-- nandina: long (nullable = true)\n",
      "\n"
     ]
    }
   ],
   "source": [
    "# esquema del dataset\n",
    "dataset_export.printSchema()"
   ]
  },
  {
   "cell_type": "code",
   "execution_count": 32,
   "id": "064c57f6",
   "metadata": {},
   "outputs": [],
   "source": [
    "# creacion de una vista temporal para exportacion\n",
    "dataset_export.createOrReplaceTempView(\"exportaciones\")"
   ]
  },
  {
   "cell_type": "code",
   "execution_count": 33,
   "id": "13b70cd2",
   "metadata": {},
   "outputs": [],
   "source": [
    "# agrupamos por gestion y ciiu y el valor en millones\n",
    "exportaciones_agrupado = spark.sql(\"\"\"\n",
    "SELECT gestion, ciiur3, departamento, sum(valor)/1000000 AS valor_millones\n",
    "FROM exportaciones\n",
    "GROUP BY gestion, ciiur3,departamento\n",
    "order by gestion, departamento, ciiur3 asc\n",
    "\"\"\")"
   ]
  },
  {
   "cell_type": "code",
   "execution_count": 34,
   "id": "2a303b9b",
   "metadata": {},
   "outputs": [],
   "source": [
    "# agrupamos exportaciones por gestion ciiu y departamento\n",
    "exportaciones_agrupado.createOrReplaceTempView(\"exportaciones_agrupado\")"
   ]
  },
  {
   "cell_type": "code",
   "execution_count": 35,
   "id": "6339b9e9",
   "metadata": {},
   "outputs": [
    {
     "name": "stderr",
     "output_type": "stream",
     "text": [
      "[Stage 26:============================================>         (165 + 4) / 200]\r"
     ]
    },
    {
     "name": "stdout",
     "output_type": "stream",
     "text": [
      "+-------+------+------------+------------------+\n",
      "|gestion|ciiur3|departamento|    valor_millones|\n",
      "+-------+------+------------+------------------+\n",
      "|   2016|  0111|        BENI|         0.0133175|\n",
      "|   2016|  0113|        BENI|154.10162598000002|\n",
      "|   2016|  1320|        BENI|2.7991595700000005|\n",
      "|   2016|  1511|        BENI|              0.12|\n",
      "|   2016|  1514|        BENI|          2.992E-4|\n",
      "|   2016|  1911|        BENI|            0.0252|\n",
      "|   2016|  2010|        BENI|2.3657291999999996|\n",
      "|   2016|  2720|        BENI|      179.57699444|\n",
      "|   2016|  2911|        BENI|              0.01|\n",
      "|   2016|  0111|  CHUQUISACA|2.1779320099999997|\n",
      "+-------+------+------------+------------------+\n",
      "only showing top 10 rows\n",
      "\n"
     ]
    },
    {
     "name": "stderr",
     "output_type": "stream",
     "text": [
      "                                                                                \r"
     ]
    }
   ],
   "source": [
    "# muestra del dataset\n",
    "exportaciones_agrupado.show(10)"
   ]
  },
  {
   "cell_type": "markdown",
   "id": "589af8e8",
   "metadata": {},
   "source": [
    "### Importacion del dataset de IMPORTACIONES"
   ]
  },
  {
   "cell_type": "code",
   "execution_count": 36,
   "id": "ff7520bb",
   "metadata": {},
   "outputs": [
    {
     "name": "stderr",
     "output_type": "stream",
     "text": [
      "                                                                                \r"
     ]
    }
   ],
   "source": [
    "# importacion del dataset import\n",
    "# el archivo fisico debe estar cargado en el HDFS (/user/hadoop/....)\n",
    "\n",
    "dataset_import = spark\\\n",
    "    .read\\\n",
    "    .option(\"inferSchema\",True)\\\n",
    "    .option(\"header\",True)\\\n",
    "    .csv(\"import_post3.csv\")"
   ]
  },
  {
   "cell_type": "code",
   "execution_count": 38,
   "id": "11770c31",
   "metadata": {},
   "outputs": [
    {
     "name": "stdout",
     "output_type": "stream",
     "text": [
      "+-------+---+-------+-------+-------+------+----------+------------+\n",
      "|gestion|mes|  kilos|    fro|    fob|ciiur3|   nandina|departamento|\n",
      "+-------+---+-------+-------+-------+------+----------+------------+\n",
      "|   2020|  4|12600.0|13134.0|11100.0|  3410|8408209000|      LA PAZ|\n",
      "|   2020|  4|  300.0|  320.0|  270.0|  3430|8708302900|      LA PAZ|\n",
      "|   2020|  6|  284.0| 8017.0| 7872.0|  3430|8708992900|  SANTA CRUZ|\n",
      "|   2020|  4|   10.0|   26.0|   25.0|  3430|8708299000|      LA PAZ|\n",
      "|   2020|  4|13934.0|28933.0|27262.0|  3430|8708299000|      LA PAZ|\n",
      "|   2020|  4| 1137.0| 1051.0|  925.0|  3430|8708302900|      LA PAZ|\n",
      "|   2020|  4|  500.0|  598.0|  540.0|  3430|8708401000|      LA PAZ|\n",
      "|   2020|  4| 2208.0| 4725.0| 4260.0|  3430|8708501100|      LA PAZ|\n",
      "|   2020|  4| 6686.0|17714.0|16745.0|  3430|8708501900|      LA PAZ|\n",
      "|   2020|  4| 1382.0| 2665.0| 2380.0|  3430|8708100000|      LA PAZ|\n",
      "+-------+---+-------+-------+-------+------+----------+------------+\n",
      "only showing top 10 rows\n",
      "\n"
     ]
    }
   ],
   "source": [
    "# muestra del dataset import\n",
    "dataset_import.show(10)"
   ]
  },
  {
   "cell_type": "code",
   "execution_count": 39,
   "id": "2be25317",
   "metadata": {},
   "outputs": [
    {
     "name": "stdout",
     "output_type": "stream",
     "text": [
      "root\n",
      " |-- gestion: integer (nullable = true)\n",
      " |-- mes: integer (nullable = true)\n",
      " |-- kilos: double (nullable = true)\n",
      " |-- fro: double (nullable = true)\n",
      " |-- fob: double (nullable = true)\n",
      " |-- ciiur3: string (nullable = true)\n",
      " |-- nandina: long (nullable = true)\n",
      " |-- departamento: string (nullable = true)\n",
      "\n"
     ]
    }
   ],
   "source": [
    "# esquema del dataset\n",
    "dataset_import.printSchema()"
   ]
  },
  {
   "cell_type": "code",
   "execution_count": 40,
   "id": "19c11a65",
   "metadata": {},
   "outputs": [],
   "source": [
    "# creando temporal de import\n",
    "dataset_import.createOrReplaceTempView(\"importaciones\")"
   ]
  },
  {
   "cell_type": "code",
   "execution_count": 41,
   "id": "adb01250",
   "metadata": {},
   "outputs": [],
   "source": [
    "importaciones_agrupado = spark.sql(\"\"\"\n",
    "SELECT gestion, departamento, ciiur3, sum(fob)/1000000 AS fob_millones\n",
    "FROM importaciones\n",
    "GROUP BY gestion, departamento,ciiur3\n",
    "order by gestion, departamento,ciiur3 asc\n",
    "\"\"\")"
   ]
  },
  {
   "cell_type": "code",
   "execution_count": 42,
   "id": "2ee651f5",
   "metadata": {},
   "outputs": [
    {
     "name": "stderr",
     "output_type": "stream",
     "text": [
      "[Stage 31:==============>                                           (1 + 3) / 4]\r"
     ]
    },
    {
     "name": "stdout",
     "output_type": "stream",
     "text": [
      "+-------+------------+------+------------+\n",
      "|gestion|departamento|ciiur3|fob_millones|\n",
      "+-------+------------+------+------------+\n",
      "|   2016|        BENI|  0111|    0.002396|\n",
      "|   2016|        BENI|  0113|    0.843606|\n",
      "|   2016|        BENI|  1410|    0.105641|\n",
      "|   2016|        BENI|  1422|      1.4E-5|\n",
      "|   2016|        BENI|  1429|     0.00119|\n",
      "|   2016|        BENI|  1511|    1.467525|\n",
      "|   2016|        BENI|  1513|    0.166014|\n",
      "|   2016|        BENI|  1514|    0.418447|\n",
      "|   2016|        BENI|  1520|    0.027361|\n",
      "|   2016|        BENI|  1531|    0.159783|\n",
      "+-------+------------+------+------------+\n",
      "only showing top 10 rows\n",
      "\n"
     ]
    },
    {
     "name": "stderr",
     "output_type": "stream",
     "text": [
      "                                                                                \r"
     ]
    }
   ],
   "source": [
    "# muesta de importaciones agrupado\n",
    "importaciones_agrupado.show(10)"
   ]
  },
  {
   "cell_type": "code",
   "execution_count": 43,
   "id": "3f8cf183",
   "metadata": {},
   "outputs": [],
   "source": [
    "# creamos vista temporal de importaciones agrupado\n",
    "importaciones_agrupado.createOrReplaceTempView(\"importaciones_agrupado\")"
   ]
  },
  {
   "cell_type": "code",
   "execution_count": 62,
   "id": "9604f9bc",
   "metadata": {},
   "outputs": [],
   "source": [
    "# Calculo final del saldo comercial\n",
    "# el saldo comercial es la diferencia entre importaciones y exportaciones\n",
    "# el saldo comercial negativo indica que se importa mas de lo que se exporta de productos de una determinada actividad\n",
    "# los saldos comerciales negativos mas grandes son candidatos a un nicho de mercado\n",
    "saldo_comercial = spark.sql(\"\"\"\n",
    "SELECT i.gestion, i.departamento,ciiu.descripcion, round(i.fob_millones,3) import_millones, round(e.valor_millones, 3) export_millones,\n",
    "round(e.valor_millones - i.fob_millones, 3) saldo, IF(round(e.valor_millones - i.fob_millones, 3) < 0, 1, 0) outcome \n",
    "FROM importaciones_agrupado i\n",
    "inner join ciiu on ciiu.codigo = i.ciiur3\n",
    "inner join exportaciones_agrupado e on (e.gestion = i.gestion and e.departamento = i.departamento and i.ciiur3 = e.ciiur3)\n",
    "order by gestion, departamento, saldo desc\n",
    "\"\"\")"
   ]
  },
  {
   "cell_type": "code",
   "execution_count": 63,
   "id": "839d17c0",
   "metadata": {
    "scrolled": false
   },
   "outputs": [
    {
     "name": "stderr",
     "output_type": "stream",
     "text": [
      "[Stage 84:===========================================>              (3 + 1) / 4]\r"
     ]
    },
    {
     "name": "stdout",
     "output_type": "stream",
     "text": [
      "+-------+------------+--------------------+---------------+---------------+-------+-------+\n",
      "|gestion|departamento|         descripcion|import_millones|export_millones|  saldo|outcome|\n",
      "+-------+------------+--------------------+---------------+---------------+-------+-------+\n",
      "|   2016|        BENI|Fabricación de pr...|            0.0|        179.577|179.577|      0|\n",
      "|   2016|        BENI|Cultivo de frutas...|          0.844|        154.102|153.258|      0|\n",
      "|   2016|        BENI|Aserrado y acepil...|           0.38|          2.366|  1.985|      0|\n",
      "|   2016|        BENI|Cultivo de cereal...|          0.002|          0.013|  0.011|      0|\n",
      "|   2016|        BENI|Fabricación de mo...|          0.012|           0.01| -0.002|      1|\n",
      "|   2016|        BENI|Elaboración de ac...|          0.418|            0.0| -0.418|      1|\n",
      "|   2016|        BENI|Producción, proce...|          1.468|           0.12| -1.348|      1|\n",
      "|   2016|  CHUQUISACA|Fabricación de pr...|          0.054|           6.59|  6.536|      0|\n",
      "|   2016|  CHUQUISACA|Cultivo de cereal...|          0.001|          2.178|  2.177|      0|\n",
      "|   2016|  CHUQUISACA|Fabricación de ma...|          0.019|          1.014|  0.995|      0|\n",
      "|   2016|  CHUQUISACA|Fabricación de mo...|            0.0|          0.741|  0.741|      0|\n",
      "|   2016|  CHUQUISACA|Otras industrias ...|          0.043|           0.44|  0.397|      0|\n",
      "|   2016|  CHUQUISACA|Extracción de pie...|          0.011|          0.315|  0.304|      0|\n",
      "|   2016|  CHUQUISACA|Fabricación de in...|          0.034|          0.305|  0.271|      0|\n",
      "|   2016|  CHUQUISACA|Fabricación de co...|            0.1|          0.364|  0.264|      0|\n",
      "|   2016|  CHUQUISACA|Fabricación de ar...|           0.01|          0.185|  0.175|      0|\n",
      "|   2016|  CHUQUISACA|Fabricación de mo...|          0.023|          0.163|   0.14|      0|\n",
      "|   2016|  CHUQUISACA|Fabricación de ap...|          0.005|          0.097|  0.092|      0|\n",
      "|   2016|  CHUQUISACA|Fabricación de ja...|          0.001|          0.078|  0.077|      0|\n",
      "|   2016|  CHUQUISACA|Fabricación de hi...|          0.002|          0.059|  0.057|      0|\n",
      "+-------+------------+--------------------+---------------+---------------+-------+-------+\n",
      "only showing top 20 rows\n",
      "\n"
     ]
    },
    {
     "name": "stderr",
     "output_type": "stream",
     "text": [
      "                                                                                \r"
     ]
    }
   ],
   "source": [
    "saldo_comercial.show(20)"
   ]
  },
  {
   "cell_type": "code",
   "execution_count": 64,
   "id": "a9969542",
   "metadata": {},
   "outputs": [
    {
     "name": "stderr",
     "output_type": "stream",
     "text": [
      "                                                                                \r"
     ]
    }
   ],
   "source": [
    "# guardando el saldo comercial nacional\n",
    "saldo_comercial.write.option(\"header\",True).csv(\"saldo_comercial_nacional.csv\")"
   ]
  },
  {
   "cell_type": "code",
   "execution_count": 61,
   "id": "e53cd3d9",
   "metadata": {},
   "outputs": [],
   "source": [
    "# guardando el dataset en formato avro\n",
    "#saldo_comercial.write.format(\"avro\").save(\"saldo_comercial.avro\")"
   ]
  },
  {
   "cell_type": "code",
   "execution_count": 52,
   "id": "ca26eee1",
   "metadata": {},
   "outputs": [],
   "source": [
    "saldo_comercial.createOrReplaceTempView(\"saldo_comercial_nacional\");"
   ]
  },
  {
   "cell_type": "code",
   "execution_count": 56,
   "id": "e53ea025",
   "metadata": {},
   "outputs": [],
   "source": [
    "# analizando el saldo comercial de La Paz en la gestion 2020\n",
    "saldo_comercial_departamento = spark.sql(\"\"\"\n",
    "SELECT gestion,  descripcion ,saldo\n",
    "FROM saldo_comercial_nacional\n",
    "WHERE departamento = 'LA PAZ'\n",
    "and gestion = 2020\n",
    "ORDER BY gestion, saldo asc\n",
    "\"\"\")"
   ]
  },
  {
   "cell_type": "code",
   "execution_count": 57,
   "id": "be2c83e4",
   "metadata": {
    "scrolled": false
   },
   "outputs": [
    {
     "name": "stderr",
     "output_type": "stream",
     "text": [
      "[Stage 79:===========================================>              (3 + 1) / 4]\r"
     ]
    },
    {
     "name": "stdout",
     "output_type": "stream",
     "text": [
      "+-------+----------------------------------------------------------------------------------------------------------------------------------------------------+--------+\n",
      "|gestion|descripcion                                                                                                                                         |saldo   |\n",
      "+-------+----------------------------------------------------------------------------------------------------------------------------------------------------+--------+\n",
      "|2020   |Fabricación de vehículos automotores.                                                                                                               |-144.404|\n",
      "|2020   |Fabricación de productos de la refinación del petróleo.                                                                                             |-119.022|\n",
      "|2020   |Fabricación de productos farmacéuticos, sustancias químicas medicinales y productos botánicos.                                                      |-78.38  |\n",
      "|2020   |Fabricación de productos de plástico.                                                                                                               |-65.432 |\n",
      "|2020   |Fabricación de equipo médico y quirúrgico y de aparatos ortopédicos.                                                                                |-64.844 |\n",
      "|2020   |Fabricación de maquinaria para la explotación de minas y canteras y para obras de construcción.                                                     |-59.586 |\n",
      "|2020   |Elaboración de otros productos alimenticios n.c.p.                                                                                                  |-56.905 |\n",
      "|2020   |Fabricación de motores, generadores y transformadores eléctricos.                                                                                   |-44.693 |\n",
      "|2020   |Fabricación de jabones y detergentes, preparados para limpiar y pulir, perfumes y preparados de tocador.                                            |-43.058 |\n",
      "|2020   |Fabricación de otros productos químicos n.c.p.                                                                                                      |-39.247 |\n",
      "|2020   |Fabricación de otros artículos de papel y cartón.                                                                                                   |-33.465 |\n",
      "|2020   |Fabricación de otros tipos de maquinaria de uso general.                                                                                            |-26.347 |\n",
      "|2020   |Fabricación de otros productos elaborados de metal n.c.p.                                                                                           |-25.162 |\n",
      "|2020   |Fabricación de sustancias químicas básicas, excepto abonos y compuestos de nitrógeno.                                                               |-24.138 |\n",
      "|2020   |Fabricación de artículos confeccionados de materiales textiles, excepto prendas de vestir.                                                          |-23.029 |\n",
      "|2020   |Fabricación de transmisores de radio y televisión y de aparatos para telefonía y telegrafía con hilos.                                              |-22.714 |\n",
      "|2020   |Preparación e hilatura de fibras textiles; tejedura de productos textiles.                                                                          |-20.723 |\n",
      "|2020   |Fabricación de maquinaria de oficina, contabilidad e informática.                                                                                   |-20.254 |\n",
      "|2020   |Fabricación de instrumentos y aparatos para medir, verificar, ensayar, navegar y otros fines, excepto el equipo de control de procesos industriales.|-20.01  |\n",
      "|2020   |Fabricación de bombas, compresores, grifos y válvulas.                                                                                              |-19.186 |\n",
      "|2020   |Fabricación de receptores de radio y televisión, aparatos de grabación y reproducción de sonido y vídeo, y productos conexos.                       |-16.512 |\n",
      "|2020   |Fabricación de otros tipos de maquinaria de uso especial.                                                                                           |-15.827 |\n",
      "|2020   |Elaboración de cacao y chocolate y de productos de confitería.                                                                                      |-13.359 |\n",
      "|2020   |Fabricación de artículos de cuchillería, herramientas de mano y artículos de ferretería.                                                            |-12.999 |\n",
      "|2020   |Otras industrias manufactureras n.c.p.                                                                                                              |-12.527 |\n",
      "|2020   |Elaboración de productos lácteos.                                                                                                                   |-11.783 |\n",
      "|2020   |Fabricación de tejidos y artículos de punto y ganchillo.                                                                                            |-11.503 |\n",
      "|2020   |Fabricación de plásticos en formas primarias y de caucho sintítico.                                                                                 |-11.474 |\n",
      "|2020   |Fabricación de equipo de elevación y manipulación.                                                                                                  |-9.334  |\n",
      "|2020   |Elaboración de productos de panadería.                                                                                                              |-9.071  |\n",
      "|2020   |Fabricación de vidrio y productos de vidrio.                                                                                                        |-8.841  |\n",
      "|2020   |Fabricación de otros productos textiles n.c.p.                                                                                                      |-8.758  |\n",
      "|2020   |Fabricación de juegos y juguetes.                                                                                                                   |-8.572  |\n",
      "|2020   |Fabricación de hilos y cables aislados.                                                                                                             |-7.232  |\n",
      "|2020   |Fabricación de muebles.                                                                                                                             |-6.298  |\n",
      "|2020   |Fabricación de otros productos de caucho.                                                                                                           |-5.892  |\n",
      "|2020   |Elaboración de productos de molinería.                                                                                                              |-5.621  |\n",
      "|2020   |Fabricación de prendas de vestir, excepto prendas de piel.                                                                                          |-5.502  |\n",
      "|2020   |Fabricación de calzado.                                                                                                                             |-5.29   |\n",
      "|2020   |Fabricación de pinturas, barnices y productos de revestimiento similares, tintas de imprenta y masillas.                                            |-5.215  |\n",
      "|2020   |Fabricación de máquinas herramienta.                                                                                                                |-4.872  |\n",
      "|2020   |Fabricación de maquinaria para la elaboración de productos textiles, prendas de vestir y cueros.                                                    |-4.842  |\n",
      "|2020   |Fabricación de otros tipos de equipo eléctrico n.c.p.                                                                                               |-4.32   |\n",
      "|2020   |Elaboración y conservación de frutas, legumbres y hortalizas.                                                                                       |-4.176  |\n",
      "|2020   |Elaboración de bebidas malteadas y de malta.                                                                                                        |-3.87   |\n",
      "|2020   |Edición de libros, folletos, partituras y otras publicaciones.                                                                                      |-3.645  |\n",
      "|2020   |Fabricación de productos de cerámica no refractaria para uso no estructural.                                                                        |-3.538  |\n",
      "|2020   |Cultivo de cereales y otros cultivos n.c.p.                                                                                                         |-3.39   |\n",
      "|2020   |Fabricación de maquinaria para la elaboración de alimentos, bebidas y tabaco.                                                                       |-3.193  |\n",
      "|2020   |Elaboración de aceites y grasas de origen vegetal y animal.                                                                                         |-2.915  |\n",
      "|2020   |Destilación, rectificación y mezcla de bebidas alcohólicas; producción de alcohol etílico a partir de sustancias fermentadas.                       |-2.648  |\n",
      "|2020   |Fabricación de otros productos minerales no metálicos n.c.p.                                                                                        |-2.531  |\n",
      "|2020   |Fabricación de fibras manufacturadas.                                                                                                               |-2.439  |\n",
      "|2020   |Fabricación de pasta de madera, papel y cartón.                                                                                                     |-2.435  |\n",
      "|2020   |Fabricación de maletas, bolsos de mano y artículos similares, y de artículos de talabartería y guarnicionería.                                      |-2.349  |\n",
      "|2020   |Reciclamiento de desperdicios y desechos no metálicos.                                                                                              |-2.106  |\n",
      "|2020   |Fabricación de tanques, depósitos y recipientes de metal.                                                                                           |-1.754  |\n",
      "|2020   |Fabricación de equipo de control de procesos industriales.                                                                                          |-1.43   |\n",
      "|2020   |Fabricación de instrumentos de música.                                                                                                              |-1.424  |\n",
      "|2020   |Silvicultura, extracción de madera y actividades de servicios conexas.                                                                              |-1.041  |\n",
      "|2020   |Actividades de impresión.                                                                                                                           |-1.034  |\n",
      "|2020   |Fabricación de carrocerías para vehículos automotores; fabricación de remolques y semirremolques.                                                   |-1.007  |\n",
      "|2020   |Elaboración de almidones y productos derivados del almidón.                                                                                         |-0.834  |\n",
      "|2020   |Cría de otros animales; elaboración de productos animales n.c.p.                                                                                    |-0.573  |\n",
      "|2020   |Elaboración de bebidas no alcohólicas; producción de aguas minerales.                                                                               |-0.536  |\n",
      "|2020   |Fabricación de otros productos de madera; fabricación de artículos de corcho, paja y materiales trenzables.                                         |-0.489  |\n",
      "|2020   |Otras actividades de edición.                                                                                                                       |-0.432  |\n",
      "|2020   |Producción, procesamiento y conservación de carne y productos cárnicos.                                                                             |-0.426  |\n",
      "|2020   |Fabricación de hornos, hogueras y quemadores.                                                                                                       |-0.369  |\n",
      "|2020   |Corte, tallado y acabado de la piedra.                                                                                                              |-0.22   |\n",
      "|2020   |Explotación de otras minas y canteras n.c.p.                                                                                                        |-0.14   |\n",
      "|2020   |Fabricación de partes y piezas de carpintería para edificios y construcciones.                                                                      |-0.082  |\n",
      "|2020   |Extracción de minerales para la fabricación de abonos y productos químicos.                                                                         |-0.042  |\n",
      "|2020   |Elaboración de vinos.                                                                                                                               |-0.032  |\n",
      "|2020   |Fabricación de papel y cartón ondulado y de envases de papel y cartón.                                                                              |-0.029  |\n",
      "|2020   |Elaboración de azúcar.                                                                                                                              |-0.007  |\n",
      "|2020   |Fabricación de aeronaves y naves espaciales.                                                                                                        |1.488   |\n",
      "|2020   |Reciclamiento de desperdicios y desechos metálicos.                                                                                                 |3.219   |\n",
      "|2020   |Fabricación de productos de arcilla y cerámica no refractarias para uso estructural.                                                                |3.459   |\n",
      "|2020   |Cultivo de frutas, nueces, plantas cuyas hojas o frutas se utilizan para preparar bebidas, y especias.                                              |5.432   |\n",
      "|2020   |Aserrado y acepilladura de madera.                                                                                                                  |7.061   |\n",
      "|2020   |Extracción de minerales metalíferos no ferrosos, excepto los minerales de uranio y torio.                                                           |78.763  |\n",
      "|2020   |Fabricación de joyas y artículos conexos.                                                                                                           |130.345 |\n",
      "|2020   |Fabricación de productos primarios de metales preciosos y metales no ferrosos.                                                                      |949.541 |\n",
      "+-------+----------------------------------------------------------------------------------------------------------------------------------------------------+--------+\n",
      "\n"
     ]
    },
    {
     "name": "stderr",
     "output_type": "stream",
     "text": [
      "                                                                                \r"
     ]
    }
   ],
   "source": [
    "saldo_comercial_departamento.show(100, False)"
   ]
  },
  {
   "cell_type": "markdown",
   "id": "687bcdde",
   "metadata": {},
   "source": [
    "###  Conclusiones\n",
    "\n"
   ]
  },
  {
   "cell_type": "markdown",
   "id": "439b29a3",
   "metadata": {},
   "source": [
    "##### Segun el saldo comercial negativo podemos observar que productos en las siguientes actividades son candidatas a ser nichos de mercado factibles\n",
    "| Gestion      | Actividad | Saldo negativo|\n",
    "| ----------- | ----------- |---------------|\n",
    "    |2020    |Fabricación de vehículos automotores.|-144.404|\n",
    "    |2020   |Fabricación de productos de la refinación del petróleo.|-119.022|\n",
    "    |2020   |Fabricación de productos farmacéuticos, sustancias químicas medicinales y productos botánicos.|-78.38|\n",
    "    |2020   |Fabricación de productos de plástico.|-65.432 |\n",
    "    |2020   |Fabricación de equipo médico y quirúrgico y de aparatos ortopédicos. |-64.844 |\n",
    "    |2020   |Fabricación de maquinaria para la explotación de minas y canteras y para obras de construcción.|-59.586| \n"
   ]
  },
  {
   "cell_type": "code",
   "execution_count": null,
   "id": "949c2dc6",
   "metadata": {},
   "outputs": [],
   "source": []
  }
 ],
 "metadata": {
  "kernelspec": {
   "display_name": "Python 3 (ipykernel)",
   "language": "python",
   "name": "python3"
  },
  "language_info": {
   "codemirror_mode": {
    "name": "ipython",
    "version": 3
   },
   "file_extension": ".py",
   "mimetype": "text/x-python",
   "name": "python",
   "nbconvert_exporter": "python",
   "pygments_lexer": "ipython3",
   "version": "3.7.3"
  }
 },
 "nbformat": 4,
 "nbformat_minor": 5
}
