{
 "cells": [
  {
   "cell_type": "markdown",
   "id": "885f5324",
   "metadata": {},
   "source": [
    "# CASO DE USO  IDENTIFICACION DE GRUPOS HOMOGENEOS EN LAS IMPORTACIONES (CLUSTERING)"
   ]
  },
  {
   "cell_type": "code",
   "execution_count": 101,
   "id": "29b85f9e",
   "metadata": {},
   "outputs": [
    {
     "data": {
      "text/html": [
       "\n",
       "        <div>\n",
       "            <p><b>SparkContext</b></p>\n",
       "\n",
       "            <p><a href=\"http://hadoop-namenode:4041\">Spark UI</a></p>\n",
       "\n",
       "            <dl>\n",
       "              <dt>Version</dt>\n",
       "                <dd><code>v3.1.2</code></dd>\n",
       "              <dt>Master</dt>\n",
       "                <dd><code>local[*]</code></dd>\n",
       "              <dt>AppName</dt>\n",
       "                <dd><code>PySparkShell</code></dd>\n",
       "            </dl>\n",
       "        </div>\n",
       "        "
      ],
      "text/plain": [
       "<SparkContext master=local[*] appName=PySparkShell>"
      ]
     },
     "execution_count": 101,
     "metadata": {},
     "output_type": "execute_result"
    }
   ],
   "source": [
    "import pyspark\n",
    "sc"
   ]
  },
  {
   "cell_type": "code",
   "execution_count": 102,
   "id": "29051471",
   "metadata": {},
   "outputs": [],
   "source": [
    "from pyspark.sql import functions\n",
    "from pyspark.sql import SparkSession\n"
   ]
  },
  {
   "cell_type": "markdown",
   "id": "d02c7ff5",
   "metadata": {},
   "source": [
    "## Importacion de datasets"
   ]
  },
  {
   "cell_type": "code",
   "execution_count": 103,
   "id": "4553c2ff",
   "metadata": {},
   "outputs": [
    {
     "name": "stderr",
     "output_type": "stream",
     "text": [
      "                                                                                \r"
     ]
    }
   ],
   "source": [
    "# recuperando importaciones\n",
    "importaciones = spark.read.option(\"header\", True)\\\n",
    ".option(\"inferSchema\",\"true\")\\\n",
    ".csv(\"import_post3.csv\")"
   ]
  },
  {
   "cell_type": "code",
   "execution_count": 104,
   "id": "249ccfd3",
   "metadata": {},
   "outputs": [
    {
     "name": "stdout",
     "output_type": "stream",
     "text": [
      "+-------+---+-------+-------+-------+------+----------+------------+\n",
      "|gestion|mes|  kilos|    fro|    fob|ciiur3|   nandina|departamento|\n",
      "+-------+---+-------+-------+-------+------+----------+------------+\n",
      "|   2020|  4|12600.0|13134.0|11100.0|  3410|8408209000|      LA PAZ|\n",
      "|   2020|  4|  300.0|  320.0|  270.0|  3430|8708302900|      LA PAZ|\n",
      "|   2020|  6|  284.0| 8017.0| 7872.0|  3430|8708992900|  SANTA CRUZ|\n",
      "|   2020|  4|   10.0|   26.0|   25.0|  3430|8708299000|      LA PAZ|\n",
      "|   2020|  4|13934.0|28933.0|27262.0|  3430|8708299000|      LA PAZ|\n",
      "|   2020|  4| 1137.0| 1051.0|  925.0|  3430|8708302900|      LA PAZ|\n",
      "|   2020|  4|  500.0|  598.0|  540.0|  3430|8708401000|      LA PAZ|\n",
      "|   2020|  4| 2208.0| 4725.0| 4260.0|  3430|8708501100|      LA PAZ|\n",
      "|   2020|  4| 6686.0|17714.0|16745.0|  3430|8708501900|      LA PAZ|\n",
      "|   2020|  4| 1382.0| 2665.0| 2380.0|  3430|8708100000|      LA PAZ|\n",
      "+-------+---+-------+-------+-------+------+----------+------------+\n",
      "only showing top 10 rows\n",
      "\n"
     ]
    }
   ],
   "source": [
    "importaciones.show(10)"
   ]
  },
  {
   "cell_type": "code",
   "execution_count": 105,
   "id": "12e2f455",
   "metadata": {},
   "outputs": [],
   "source": [
    "importaciones.createOrReplaceTempView(\"importaciones\");"
   ]
  },
  {
   "cell_type": "code",
   "execution_count": 115,
   "id": "050a3cbd",
   "metadata": {},
   "outputs": [],
   "source": [
    "# analizando el saldo comercial de La Paz en la gestion 2020\n",
    "_importaciones_agrupado = spark.sql(\"\"\"\n",
    "SELECT gestion,  ciiur3 ,departamento, sum(kilos) kilos, sum(fro) fro, sum(fob) fob\n",
    "FROM importaciones\n",
    "GROUP BY gestion, ciiur3, departamento\n",
    "ORDER BY gestion, ciiur3, departamento\n",
    "\"\"\")"
   ]
  },
  {
   "cell_type": "code",
   "execution_count": 107,
   "id": "7f551994",
   "metadata": {},
   "outputs": [
    {
     "name": "stdout",
     "output_type": "stream",
     "text": [
      "root\n",
      " |-- gestion: integer (nullable = true)\n",
      " |-- ciiur3: string (nullable = true)\n",
      " |-- departamento: string (nullable = true)\n",
      " |-- kilos: double (nullable = true)\n",
      " |-- fro: double (nullable = true)\n",
      " |-- fob: double (nullable = true)\n",
      "\n"
     ]
    }
   ],
   "source": [
    "_importaciones_agrupado.printSchema()"
   ]
  },
  {
   "cell_type": "code",
   "execution_count": 119,
   "id": "e8e84ca5",
   "metadata": {},
   "outputs": [],
   "source": [
    "# construimos el vector de features con las variables, geston, mes, kilos (volumen), fob (precio)\n",
    "\n",
    "from pyspark.ml.feature import VectorAssembler\n",
    "v_assembler = VectorAssembler()\\\n",
    ".setInputCols([\"gestion\", \"kilos\", \"fob\"])\\\n",
    ".setOutputCol(\"features\")\n",
    "\n",
    "_importaciones = v_assembler.transform(_importaciones_agrupado)"
   ]
  },
  {
   "cell_type": "code",
   "execution_count": 120,
   "id": "b3174509",
   "metadata": {},
   "outputs": [
    {
     "name": "stderr",
     "output_type": "stream",
     "text": [
      "[Stage 345:============================================>        (169 + 4) / 200]\r"
     ]
    },
    {
     "name": "stdout",
     "output_type": "stream",
     "text": [
      "+-------+------+------------+------------+-----------+--------------------+\n",
      "|gestion|ciiur3|departamento|       kilos|        fob|            features|\n",
      "+-------+------+------------+------------+-----------+--------------------+\n",
      "|   2016|  0111|        BENI|     22590.0|     2396.0|[2016.0,22590.0,2...|\n",
      "|   2016|  0111|  CHUQUISACA|      4752.0|     1168.0|[2016.0,4752.0,11...|\n",
      "|   2016|  0111|  COCHABAMBA|    269824.0|   156292.0|[2016.0,269824.0,...|\n",
      "|   2016|  0111|      LA PAZ|1.33092082E8|1.9987496E7|[2016.0,1.3309208...|\n",
      "|   2016|  0111|       ORURO|   1410313.0|  1757926.0|[2016.0,1410313.0...|\n",
      "|   2016|  0111|      POTOSI|   9057246.0|  1491505.0|[2016.0,9057246.0...|\n",
      "|   2016|  0111|  SANTA CRUZ|   8032462.0|1.8404285E7|[2016.0,8032462.0...|\n",
      "|   2016|  0111|      TARIJA|1.45041639E8|2.7028639E7|[2016.0,1.4504163...|\n",
      "|   2016|  0112|  COCHABAMBA|    473782.0|   869847.0|[2016.0,473782.0,...|\n",
      "|   2016|  0112|      LA PAZ|  1.941103E7|  1744818.0|[2016.0,1.941103E...|\n",
      "|   2016|  0112|  SANTA CRUZ|     34773.0|  2644926.0|[2016.0,34773.0,2...|\n",
      "|   2016|  0112|      TARIJA|      6334.0|    70629.0|[2016.0,6334.0,70...|\n",
      "|   2016|  0113|        BENI|   1814682.0|   843606.0|[2016.0,1814682.0...|\n",
      "|   2016|  0113|  COCHABAMBA|    327729.0|   381547.0|[2016.0,327729.0,...|\n",
      "|   2016|  0113|      LA PAZ| 1.2588723E7|  3269103.0|[2016.0,1.2588723...|\n",
      "|   2016|  0113|       ORURO| 2.6044333E7|  9460106.0|[2016.0,2.6044333...|\n",
      "|   2016|  0113|      POTOSI|   4102864.0|  2194691.0|[2016.0,4102864.0...|\n",
      "|   2016|  0113|  SANTA CRUZ|    546831.0|  1022043.0|[2016.0,546831.0,...|\n",
      "|   2016|  0113|      TARIJA|  1.274258E7|  6576844.0|[2016.0,1.274258E...|\n",
      "|   2016|  0121|  COCHABAMBA|       528.0|   111623.0|[2016.0,528.0,111...|\n",
      "|   2016|  0121|      LA PAZ|      9892.0|    29234.0|[2016.0,9892.0,29...|\n",
      "|   2016|  0121|      POTOSI|      2155.0|    17400.0|[2016.0,2155.0,17...|\n",
      "|   2016|  0121|  SANTA CRUZ|   2232433.0|  2972162.0|[2016.0,2232433.0...|\n",
      "|   2016|  0121|      TARIJA|    155700.0|   416477.0|[2016.0,155700.0,...|\n",
      "|   2016|  0122|  CHUQUISACA|      3152.0|   105589.0|[2016.0,3152.0,10...|\n",
      "|   2016|  0122|  COCHABAMBA|      2522.0|   161522.0|[2016.0,2522.0,16...|\n",
      "|   2016|  0122|      LA PAZ|    191846.0|  1124343.0|[2016.0,191846.0,...|\n",
      "|   2016|  0122|       ORURO|      9360.0|    85740.0|[2016.0,9360.0,85...|\n",
      "|   2016|  0122|  SANTA CRUZ|    569815.0|  8823492.0|[2016.0,569815.0,...|\n",
      "|   2016|  0122|      TARIJA|     19740.0|    74548.0|[2016.0,19740.0,7...|\n",
      "|   2016|  0200|  COCHABAMBA|     29138.0|   413608.0|[2016.0,29138.0,4...|\n",
      "|   2016|  0200|      LA PAZ|    149147.0|   951114.0|[2016.0,149147.0,...|\n",
      "|   2016|  0200|       ORURO|      2123.0|     3956.0|[2016.0,2123.0,39...|\n",
      "|   2016|  0200|  SANTA CRUZ|   2420284.0|   619704.0|[2016.0,2420284.0...|\n",
      "|   2016|  0200|      TARIJA|   2039965.0|   151956.0|[2016.0,2039965.0...|\n",
      "|   2016|  0500|  COCHABAMBA|        64.0|     1952.0|[2016.0,64.0,1952.0]|\n",
      "|   2016|  0500|      LA PAZ|      2202.0|    14425.0|[2016.0,2202.0,14...|\n",
      "|   2016|  0500|  SANTA CRUZ|      5346.0|    26626.0|[2016.0,5346.0,26...|\n",
      "|   2016|  0500|      TARIJA|       744.0|     1024.0|[2016.0,744.0,102...|\n",
      "|   2016|  1010|  COCHABAMBA|     29093.0|    11769.0|[2016.0,29093.0,1...|\n",
      "|   2016|  1010|      LA PAZ|   6056410.0|   630018.0|[2016.0,6056410.0...|\n",
      "|   2016|  1020|  SANTA CRUZ|         2.0|       34.0|   [2016.0,2.0,34.0]|\n",
      "|   2016|  1030|  COCHABAMBA|     47800.0|     5457.0|[2016.0,47800.0,5...|\n",
      "|   2016|  1030|      LA PAZ|     20412.0|     9878.0|[2016.0,20412.0,9...|\n",
      "|   2016|  1030|  SANTA CRUZ|      1423.0|     3480.0|[2016.0,1423.0,34...|\n",
      "|   2016|  1030|      TARIJA|     54498.0|   119316.0|[2016.0,54498.0,1...|\n",
      "|   2016|  1110|      LA PAZ|       577.0|     2939.0|[2016.0,577.0,293...|\n",
      "|   2016|  1110|  SANTA CRUZ|      2935.0|    10067.0|[2016.0,2935.0,10...|\n",
      "|   2016|  1310|  SANTA CRUZ|   2000000.0|    19998.0|[2016.0,2000000.0...|\n",
      "|   2016|  1320|  COCHABAMBA|     21400.0|     7573.0|[2016.0,21400.0,7...|\n",
      "|   2016|  1320|      LA PAZ|      4152.0|     2738.0|[2016.0,4152.0,27...|\n",
      "|   2016|  1320|       ORURO|     32945.0|    37867.0|[2016.0,32945.0,3...|\n",
      "|   2016|  1320|  SANTA CRUZ|    755475.0|    17793.0|[2016.0,755475.0,...|\n",
      "|   2016|  1410|        BENI|   6813750.0|   105641.0|[2016.0,6813750.0...|\n",
      "|   2016|  1410|  CHUQUISACA|      6500.0|    10973.0|[2016.0,6500.0,10...|\n",
      "|   2016|  1410|  COCHABAMBA|     84999.0|    34918.0|[2016.0,84999.0,3...|\n",
      "|   2016|  1410|      LA PAZ|    240968.0|   168305.0|[2016.0,240968.0,...|\n",
      "|   2016|  1410|       ORURO|      4275.0|     4048.0|[2016.0,4275.0,40...|\n",
      "|   2016|  1410|       PANDO|    226800.0|     4017.0|[2016.0,226800.0,...|\n",
      "|   2016|  1410|      POTOSI|       768.0|     2872.0|[2016.0,768.0,287...|\n",
      "|   2016|  1410|  SANTA CRUZ|   4698908.0|  1067191.0|[2016.0,4698908.0...|\n",
      "|   2016|  1410|      TARIJA|     52056.0|     4680.0|[2016.0,52056.0,4...|\n",
      "|   2016|  1421|  COCHABAMBA|    145747.0|    54035.0|[2016.0,145747.0,...|\n",
      "|   2016|  1421|      LA PAZ|    154785.0|    73503.0|[2016.0,154785.0,...|\n",
      "|   2016|  1421|       ORURO|   4542378.0|   474503.0|[2016.0,4542378.0...|\n",
      "|   2016|  1421|  SANTA CRUZ|   2954062.0|  1491598.0|[2016.0,2954062.0...|\n",
      "|   2016|  1421|      TARIJA|         5.0|      111.0|  [2016.0,5.0,111.0]|\n",
      "|   2016|  1422|        BENI|        60.0|       14.0|  [2016.0,60.0,14.0]|\n",
      "|   2016|  1422|  COCHABAMBA|    438170.0|   124015.0|[2016.0,438170.0,...|\n",
      "|   2016|  1422|      LA PAZ|    259911.0|   126026.0|[2016.0,259911.0,...|\n",
      "|   2016|  1422|       ORURO|      3422.0|     6384.0|[2016.0,3422.0,63...|\n",
      "|   2016|  1422|      POTOSI|      1500.0|      253.0|[2016.0,1500.0,25...|\n",
      "|   2016|  1422|  SANTA CRUZ|    299344.0|   246977.0|[2016.0,299344.0,...|\n",
      "|   2016|  1429|        BENI|    105750.0|     1190.0|[2016.0,105750.0,...|\n",
      "|   2016|  1429|  COCHABAMBA|   4464931.0|  2419612.0|[2016.0,4464931.0...|\n",
      "|   2016|  1429|      LA PAZ|   2402258.0|  2326567.0|[2016.0,2402258.0...|\n",
      "|   2016|  1429|       ORURO|   2211262.0|   564119.0|[2016.0,2211262.0...|\n",
      "|   2016|  1429|      POTOSI|     80280.0|    41759.0|[2016.0,80280.0,4...|\n",
      "|   2016|  1429|  SANTA CRUZ|   6296825.0|  4255718.0|[2016.0,6296825.0...|\n",
      "|   2016|  1429|      TARIJA|    186707.0|   101099.0|[2016.0,186707.0,...|\n",
      "|   2016|  1511|        BENI|   1321756.0|  1467525.0|[2016.0,1321756.0...|\n",
      "|   2016|  1511|  COCHABAMBA|    145025.0|   332861.0|[2016.0,145025.0,...|\n",
      "|   2016|  1511|      LA PAZ|    120331.0|   245481.0|[2016.0,120331.0,...|\n",
      "|   2016|  1511|  SANTA CRUZ| 1.0495422E7|1.0894376E7|[2016.0,1.0495422...|\n",
      "|   2016|  1511|      TARIJA|    244019.0|   329867.0|[2016.0,244019.0,...|\n",
      "|   2016|  1512|  CHUQUISACA|       285.0|       63.0| [2016.0,285.0,63.0]|\n",
      "|   2016|  1512|  COCHABAMBA|    718665.0|  2118132.0|[2016.0,718665.0,...|\n",
      "|   2016|  1512|      LA PAZ|   3917636.0|  5766425.0|[2016.0,3917636.0...|\n",
      "|   2016|  1512|       ORURO|   1849198.0|  1491288.0|[2016.0,1849198.0...|\n",
      "|   2016|  1512|      POTOSI|   2834122.0|  3363591.0|[2016.0,2834122.0...|\n",
      "|   2016|  1512|  SANTA CRUZ|    193072.0|   423154.0|[2016.0,193072.0,...|\n",
      "|   2016|  1512|      TARIJA|   4511173.0|  5160049.0|[2016.0,4511173.0...|\n",
      "|   2016|  1513|        BENI|    232602.0|   166014.0|[2016.0,232602.0,...|\n",
      "|   2016|  1513|  CHUQUISACA|     49805.0|    13802.0|[2016.0,49805.0,1...|\n",
      "|   2016|  1513|  COCHABAMBA|   4771628.0|  4361491.0|[2016.0,4771628.0...|\n",
      "|   2016|  1513|      LA PAZ|   8020898.0|  4480993.0|[2016.0,8020898.0...|\n",
      "|   2016|  1513|       ORURO|    687486.0|   289566.0|[2016.0,687486.0,...|\n",
      "|   2016|  1513|      POTOSI|      5676.0|     6613.0|[2016.0,5676.0,66...|\n",
      "|   2016|  1513|  SANTA CRUZ|   7788140.0|  6870360.0|[2016.0,7788140.0...|\n",
      "|   2016|  1513|      TARIJA|   4549856.0|  4561449.0|[2016.0,4549856.0...|\n",
      "+-------+------+------------+------------+-----------+--------------------+\n",
      "only showing top 100 rows\n",
      "\n"
     ]
    },
    {
     "name": "stderr",
     "output_type": "stream",
     "text": [
      "                                                                                \r"
     ]
    }
   ],
   "source": [
    "_importaciones.select(\"gestion\",\"ciiur3\", \"departamento\", \"kilos\", \"fob\", \"features\").show(100)"
   ]
  },
  {
   "cell_type": "code",
   "execution_count": 121,
   "id": "d894d3e9",
   "metadata": {},
   "outputs": [],
   "source": [
    "# implementacion del k-means\n",
    "from pyspark.ml.clustering import KMeans \n",
    "k_means = KMeans().setK(5)"
   ]
  },
  {
   "cell_type": "code",
   "execution_count": 122,
   "id": "7ef49085",
   "metadata": {},
   "outputs": [
    {
     "name": "stdout",
     "output_type": "stream",
     "text": [
      "distanceMeasure: the distance measure. Supported options: 'euclidean' and 'cosine'. (default: euclidean)\n",
      "featuresCol: features column name. (default: features)\n",
      "initMode: The initialization algorithm. This can be either \"random\" to choose random points as initial cluster centers, or \"k-means||\" to use a parallel variant of k-means++ (default: k-means||)\n",
      "initSteps: The number of steps for k-means|| initialization mode. Must be > 0. (default: 2)\n",
      "k: The number of clusters to create. Must be > 1. (default: 2, current: 5)\n",
      "maxIter: max number of iterations (>= 0). (default: 20)\n",
      "predictionCol: prediction column name. (default: prediction)\n",
      "seed: random seed. (default: 7969353092125344463)\n",
      "tol: the convergence tolerance for iterative algorithms (>= 0). (default: 0.0001)\n",
      "weightCol: weight column name. If this is not set or empty, we treat all instance weights as 1.0. (undefined)\n"
     ]
    }
   ],
   "source": [
    "print(k_means.explainParams())"
   ]
  },
  {
   "cell_type": "code",
   "execution_count": 123,
   "id": "022d3418",
   "metadata": {},
   "outputs": [
    {
     "name": "stderr",
     "output_type": "stream",
     "text": [
      "                                                                                \r"
     ]
    }
   ],
   "source": [
    "# ajuste del modelo\n",
    "k_means_model = k_means.fit(_importaciones)"
   ]
  },
  {
   "cell_type": "code",
   "execution_count": 125,
   "id": "66e11e79",
   "metadata": {},
   "outputs": [],
   "source": [
    "summary = k_means_model.summary"
   ]
  },
  {
   "cell_type": "code",
   "execution_count": 126,
   "id": "acae31b2",
   "metadata": {},
   "outputs": [
    {
     "name": "stdout",
     "output_type": "stream",
     "text": [
      "[5329, 12, 42, 2, 185]\n"
     ]
    }
   ],
   "source": [
    "# del banco de datos se puede observar una gran concentracion en el primer grupo\n",
    "print(summary.clusterSizes)"
   ]
  },
  {
   "cell_type": "code",
   "execution_count": 127,
   "id": "0d1a80f6",
   "metadata": {},
   "outputs": [
    {
     "data": {
      "text/plain": [
       "[array([2.01846425e+03, 2.13425814e+06, 3.80515825e+06]),\n",
       " array([2.01791667e+03, 4.36621299e+08, 2.61079824e+08]),\n",
       " array([2.01826190e+03, 2.00144779e+08, 1.02914995e+08]),\n",
       " array([2.01900000e+03, 7.38093248e+08, 5.12983084e+08]),\n",
       " array([2.01803784e+03, 2.50893011e+07, 9.03818327e+07])]"
      ]
     },
     "execution_count": 127,
     "metadata": {},
     "output_type": "execute_result"
    }
   ],
   "source": [
    "# centroides\n",
    "centers = k_means_model.clusterCenters() \n",
    "centers"
   ]
  },
  {
   "cell_type": "code",
   "execution_count": 128,
   "id": "c1715513",
   "metadata": {},
   "outputs": [],
   "source": [
    "# aplicamos modelo\n",
    "clustered_importaciones = k_means_model.transform(_importaciones)"
   ]
  },
  {
   "cell_type": "code",
   "execution_count": 136,
   "id": "31f7075e",
   "metadata": {
    "scrolled": false
   },
   "outputs": [
    {
     "name": "stderr",
     "output_type": "stream",
     "text": [
      "[Stage 469:====================================================>(199 + 1) / 200]\r"
     ]
    },
    {
     "name": "stdout",
     "output_type": "stream",
     "text": [
      "+-------+------+----------------+--------------------+----------+\n",
      "|gestion|ciiur3|    departamento|            features|prediction|\n",
      "+-------+------+----------------+--------------------+----------+\n",
      "|   2018|  2924|      SANTA CRUZ|[2018.0,2.1374989...|         4|\n",
      "|   2018|  2811|           ORURO|[2018.0,2.0138683...|         4|\n",
      "|   2018|  2924|      COCHABAMBA|[2018.0,1.166156E...|         4|\n",
      "|   2018|  2429|           ORURO|[2018.0,2.5404595...|         4|\n",
      "|   2018|  2520|          LA PAZ|[2018.0,3.1861604...|         4|\n",
      "|   2018|  2924|          LA PAZ|[2018.0,1.3724712...|         4|\n",
      "|   2017|  2921|      SANTA CRUZ|[2017.0,1.0166515...|         4|\n",
      "|   2018|  2413|      SANTA CRUZ|[2018.0,5.6691349...|         4|\n",
      "|   2018|  2424|      SANTA CRUZ|[2018.0,4.2180017...|         4|\n",
      "|   2017|  2413|           ORURO|[2017.0,8.7178678...|         4|\n",
      "|   2018|  2520|      SANTA CRUZ|[2018.0,2.3732285...|         4|\n",
      "|   2018|  2911|      SANTA CRUZ|[2018.0,1.0106195...|         4|\n",
      "|   2018|  2919|      SANTA CRUZ|[2018.0,1.1243556...|         4|\n",
      "|   2017|  3000|      SANTA CRUZ|[2017.0,867686.0,...|         4|\n",
      "|   2018|  1531|          TARIJA|[2018.0,9.7976537...|         4|\n",
      "|   2018|  1549|          LA PAZ|[2018.0,1.2472851...|         4|\n",
      "|   2018|  2423|          LA PAZ|[2018.0,2710704.0...|         4|\n",
      "|   2018|  2421|      SANTA CRUZ|[2018.0,1.3944382...|         4|\n",
      "|   2018|  2429|          TARIJA|[2018.0,1.9918831...|         4|\n",
      "|   2016|  3220|      SANTA CRUZ|[2016.0,1122303.0...|         4|\n",
      "|   2016|  3410|      SANTA CRUZ|[2016.0,3.8896279...|         4|\n",
      "|   2018|  2429|      SANTA CRUZ|[2018.0,2.1206702...|         4|\n",
      "|   2017|  2520|      SANTA CRUZ|[2017.0,2.2097953...|         4|\n",
      "|   2018|  2320|          POTOSI|[2018.0,5.2758877...|         4|\n",
      "|   2018|  2899|      SANTA CRUZ|[2018.0,2.1487247...|         4|\n",
      "|   2017|  2899|      SANTA CRUZ|[2017.0,2.0282512...|         4|\n",
      "|   2018|  2921|      SANTA CRUZ|[2018.0,1.1465156...|         4|\n",
      "|   2017|  3110|      SANTA CRUZ|[2017.0,7780512.0...|         4|\n",
      "|   2017|  3410|      COCHABAMBA|[2017.0,1.1031183...|         4|\n",
      "|   2017|  2930|      SANTA CRUZ|[2017.0,1.6635663...|         4|\n",
      "|   2017|  3430|      SANTA CRUZ|[2017.0,7675103.0...|         4|\n",
      "|   2016|  2423|      SANTA CRUZ|[2016.0,7644690.0...|         4|\n",
      "|   2016|  2101|           ORURO|[2016.0,5.7441302...|         4|\n",
      "|   2018|  2411|      SANTA CRUZ|[2018.0,4.6888162...|         4|\n",
      "|   2016|  2413|      SANTA CRUZ|[2016.0,5.9676216...|         4|\n",
      "|   2016|  2520|          LA PAZ|[2016.0,3.0414783...|         4|\n",
      "|   2018|  2423|      SANTA CRUZ|[2018.0,7981576.0...|         4|\n",
      "|   2016|  2924|      SANTA CRUZ|[2016.0,2.9491524...|         4|\n",
      "|   2018|  2413|           ORURO|[2018.0,1.0862828...|         4|\n",
      "|   2016|  2929|      SANTA CRUZ|[2016.0,8414191.0...|         4|\n",
      "|   2016|  2930|      SANTA CRUZ|[2016.0,1.4005055...|         4|\n",
      "|   2016|  3530|      COCHABAMBA|[2016.0,386511.0,...|         4|\n",
      "|   2016|  3410|           ORURO|[2016.0,1.6590458...|         4|\n",
      "|   2017|  1549|          LA PAZ|[2017.0,1.0780819...|         4|\n",
      "|   2017|  2520|          LA PAZ|[2017.0,2.9909081...|         4|\n",
      "|   2017|  2423|      SANTA CRUZ|[2017.0,7810802.0...|         4|\n",
      "|   2017|  2423|          LA PAZ|[2017.0,2746331.0...|         4|\n",
      "|   2018|  1549|      SANTA CRUZ|[2018.0,1.8009367...|         4|\n",
      "|   2017|  2429|      SANTA CRUZ|[2017.0,2.2787249...|         4|\n",
      "|   2018|  2911|      COCHABAMBA|[2018.0,9668532.0...|         4|\n",
      "|   2017|  2911|      SANTA CRUZ|[2017.0,1635730.0...|         4|\n",
      "|   2017|  2915|          LA PAZ|[2017.0,9902338.0...|         4|\n",
      "|   2017|  2912|      SANTA CRUZ|[2017.0,4702420.0...|         4|\n",
      "|   2017|  2919|      SANTA CRUZ|[2017.0,1.2731584...|         4|\n",
      "|   2017|  2919|          LA PAZ|[2017.0,3666820.0...|         4|\n",
      "|   2017|  2924|      SANTA CRUZ|[2017.0,3.3224188...|         4|\n",
      "|   2017|  2924|          LA PAZ|[2017.0,1.5904693...|         4|\n",
      "|   2017|  3220|      SANTA CRUZ|[2017.0,1282791.0...|         4|\n",
      "|   2017|  3410|          LA PAZ|[2017.0,5.6702798...|         4|\n",
      "|   2017|  2929|          LA PAZ|[2017.0,8406022.0...|         4|\n",
      "|   2017|  2929|      SANTA CRUZ|[2017.0,6341725.0...|         4|\n",
      "|   2017|  3410|      SANTA CRUZ|[2017.0,3.794263E...|         4|\n",
      "|   2017|  3410|           ORURO|[2017.0,3.270973E...|         4|\n",
      "|   2016|  1549|      SANTA CRUZ|[2016.0,1.5129701...|         4|\n",
      "|   2016|  1711|          LA PAZ|[2016.0,2.9042878...|         4|\n",
      "|   2016|  1549|          LA PAZ|[2016.0,1.1714253...|         4|\n",
      "|   2016|  2101|      SANTA CRUZ|[2016.0,5.9046723...|         4|\n",
      "|   2016|  2411|      SANTA CRUZ|[2016.0,3.9391983...|         4|\n",
      "|   2016|  2924|          LA PAZ|[2016.0,1.6274871...|         4|\n",
      "|   2016|  2320|SIN DEPARTAMENTO|[2016.0,5.4412243...|         4|\n",
      "|   2016|  2423|          LA PAZ|[2016.0,2893532.0...|         4|\n",
      "|   2016|  2413|           ORURO|[2016.0,8.6011934...|         4|\n",
      "|   2016|  2421|      SANTA CRUZ|[2016.0,1.1852306...|         4|\n",
      "|   2016|  2520|      SANTA CRUZ|[2016.0,3.1518273...|         4|\n",
      "|   2018|  2101|      SANTA CRUZ|[2018.0,7.0662567...|         4|\n",
      "|   2016|  2429|      SANTA CRUZ|[2016.0,2.886643E...|         4|\n",
      "|   2016|  2424|      SANTA CRUZ|[2016.0,3.6011433...|         4|\n",
      "|   2016|  2911|      SANTA CRUZ|[2016.0,667005.0,...|         4|\n",
      "|   2016|  2899|      SANTA CRUZ|[2016.0,2.3928872...|         4|\n",
      "|   2016|  2912|      SANTA CRUZ|[2016.0,4937690.0...|         4|\n",
      "|   2016|  2915|          LA PAZ|[2016.0,7551952.0...|         4|\n",
      "|   2016|  2921|      SANTA CRUZ|[2016.0,1.8252621...|         4|\n",
      "|   2016|  2919|      SANTA CRUZ|[2016.0,1.133054E...|         4|\n",
      "|   2016|  3110|      SANTA CRUZ|[2016.0,7451158.0...|         4|\n",
      "|   2016|  3530|      SANTA CRUZ|[2016.0,89661.0,5...|         4|\n",
      "|   2016|  3430|      SANTA CRUZ|[2016.0,8510173.0...|         4|\n",
      "|   2016|  3410|          LA PAZ|[2016.0,6.4372045...|         4|\n",
      "|   2016|  3410|      COCHABAMBA|[2016.0,9722429.0...|         4|\n",
      "|   2017|  1531|          TARIJA|[2017.0,1.0578888...|         4|\n",
      "|   2017|  1549|      SANTA CRUZ|[2017.0,1.6880495...|         4|\n",
      "|   2017|  1711|          LA PAZ|[2017.0,2.3692607...|         4|\n",
      "|   2017|  1920|      SANTA CRUZ|[2017.0,4533369.0...|         4|\n",
      "|   2017|  2101|      SANTA CRUZ|[2017.0,6.3937112...|         4|\n",
      "|   2017|  2413|      SANTA CRUZ|[2017.0,5.6936579...|         4|\n",
      "|   2017|  2421|      SANTA CRUZ|[2017.0,1.4498381...|         4|\n",
      "|   2017|  2911|          TARIJA|[2017.0,3108830.0...|         4|\n",
      "|   2017|  2411|      SANTA CRUZ|[2017.0,4.5936183...|         4|\n",
      "|   2017|  2429|           ORURO|[2017.0,2.7535859...|         4|\n",
      "|   2017|  2424|      SANTA CRUZ|[2017.0,3.9393197...|         4|\n",
      "|   2016|  1531|          TARIJA|[2016.0,8.8351312...|         4|\n",
      "+-------+------+----------------+--------------------+----------+\n",
      "only showing top 100 rows\n",
      "\n"
     ]
    },
    {
     "name": "stderr",
     "output_type": "stream",
     "text": [
      "                                                                                \r"
     ]
    }
   ],
   "source": [
    "\n",
    "clustered_importaciones.select(\"gestion\", \"ciiur3\",\"departamento\", \"features\", \"prediction\")\\\n",
    ".orderBy(\"prediction\", ascending=False).show(100)"
   ]
  },
  {
   "cell_type": "markdown",
   "id": "ed7d4fa1",
   "metadata": {},
   "source": [
    "### Conclusiones \n",
    "Podemos observar, dada las cinco agrupaciones creadas que: las importaciones mas significativas en cuanto a valor y volumen estan en el grupo 4 y son los productos de las siguientes actividades (ciiur3, las descripciones estan disponibles en el caso de uso 1) :\n",
    "\n",
    "    2924|   \n",
    "    2811|  \n",
    "    2924| \n",
    "    2429|\n",
    "    2520|\n",
    "\n",
    "por lo tanto los productos de las actividades mencionadas son candidatas a nichos de mercado factibles\n",
    "y la mayoria de importaciones regulares, llamadas pequenias estan agrupadas en el grupo 0"
   ]
  },
  {
   "cell_type": "code",
   "execution_count": 137,
   "id": "fadd4bf5",
   "metadata": {},
   "outputs": [
    {
     "name": "stderr",
     "output_type": "stream",
     "text": [
      "                                                                                \r"
     ]
    },
    {
     "data": {
      "text/plain": [
       "0.946498651359283"
      ]
     },
     "execution_count": 137,
     "metadata": {},
     "output_type": "execute_result"
    }
   ],
   "source": [
    "# evaluacion del modelo\n",
    "from pyspark.ml.evaluation import ClusteringEvaluator\n",
    "\n",
    "clustering_evaluator = ClusteringEvaluator()\\\n",
    ".setPredictionCol(\"prediction\") \n",
    "clustering_evaluator.evaluate(clustered_importaciones)"
   ]
  },
  {
   "cell_type": "code",
   "execution_count": 76,
   "id": "4ed75fa8",
   "metadata": {},
   "outputs": [],
   "source": [
    "# guardando el modelo en el HDFS\n",
    "k_means_model.save(\"models/model-cluster-import\")"
   ]
  }
 ],
 "metadata": {
  "kernelspec": {
   "display_name": "Python 3 (ipykernel)",
   "language": "python",
   "name": "python3"
  },
  "language_info": {
   "codemirror_mode": {
    "name": "ipython",
    "version": 3
   },
   "file_extension": ".py",
   "mimetype": "text/x-python",
   "name": "python",
   "nbconvert_exporter": "python",
   "pygments_lexer": "ipython3",
   "version": "3.7.3"
  }
 },
 "nbformat": 4,
 "nbformat_minor": 5
}
